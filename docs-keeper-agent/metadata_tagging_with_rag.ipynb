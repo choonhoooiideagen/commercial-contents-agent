{
 "cells": [
  {
   "cell_type": "markdown",
   "metadata": {},
   "source": [
    "### Package imports"
   ]
  },
  {
   "cell_type": "code",
   "execution_count": 1,
   "metadata": {},
   "outputs": [],
   "source": [
    "from langchain_chroma import Chroma\n",
    "from langchain_openai import AzureOpenAIEmbeddings\n",
    "from langchain_core.documents import Document\n",
    "from langchain_openai import AzureChatOpenAI\n",
    "from langchain.chains import RetrievalQA\n",
    "from utils.utils import pdf_bytes_to_text, clean_json_string, write_to_db\n",
    "from dotenv import load_dotenv\n",
    "import boto3\n",
    "import json\n",
    "import os\n",
    "import uuid"
   ]
  },
  {
   "cell_type": "markdown",
   "metadata": {},
   "source": [
    "### Configurations"
   ]
  },
  {
   "cell_type": "code",
   "execution_count": 2,
   "metadata": {},
   "outputs": [
    {
     "data": {
      "text/plain": [
       "True"
      ]
     },
     "execution_count": 2,
     "metadata": {},
     "output_type": "execute_result"
    }
   ],
   "source": [
    "load_dotenv()"
   ]
  },
  {
   "cell_type": "markdown",
   "metadata": {},
   "source": [
    "### Create a collection"
   ]
  },
  {
   "cell_type": "code",
   "execution_count": 3,
   "metadata": {},
   "outputs": [],
   "source": [
    "# Define the embedding model\n",
    "embeddings = AzureOpenAIEmbeddings(\n",
    "    model=os.getenv('AZURE_OPENAI_EMBEDDING_DEPLOYMENT_NAME'),\n",
    "    api_key=os.getenv(\"AZURE_OPENAI_API_KEY\"),\n",
    "    azure_endpoint=os.getenv(\"AZURE_OPENAI_ENDPOINT\"),\n",
    "    api_version=os.getenv(\"AZURE_OPENAI_API_VERSION\")\n",
    ")"
   ]
  },
  {
   "cell_type": "code",
   "execution_count": 4,
   "metadata": {},
   "outputs": [],
   "source": [
    "# Create the Chroma vector store\n",
    "vector_store = Chroma(\n",
    "    collection_name=\"test_collection\",\n",
    "    embedding_function=embeddings,\n",
    "    persist_directory=\"./chroma_langchain_db\",  # Where to save data locally, remove if not necessary\n",
    ")"
   ]
  },
  {
   "cell_type": "markdown",
   "metadata": {},
   "source": [
    "### Store data in the collection"
   ]
  },
  {
   "cell_type": "code",
   "execution_count": 5,
   "metadata": {},
   "outputs": [],
   "source": [
    "# Connect to S3\n",
    "bucket_name = \"thecrewo6newdocs\"\n",
    "s3 = boto3.resource(\"s3\")\n",
    "bucket = s3.Bucket(bucket_name)"
   ]
  },
  {
   "cell_type": "code",
   "execution_count": 6,
   "metadata": {},
   "outputs": [],
   "source": [
    "# Define the system instructions for metadata tagging\n",
    "with open(\"system_instructions/s3_metadata_tagging.txt\", \"r\") as f:\n",
    "    system_instructions = f.read()"
   ]
  },
  {
   "cell_type": "code",
   "execution_count": 7,
   "metadata": {},
   "outputs": [],
   "source": [
    "# Connect to the Azure OpenAI GPT model\n",
    "model = AzureChatOpenAI(\n",
    "    api_key=os.getenv(\"AZURE_OPENAI_API_KEY\"),\n",
    "    azure_endpoint=os.getenv(\"AZURE_OPENAI_ENDPOINT\"),\n",
    "    api_version=os.getenv(\"AZURE_OPENAI_API_VERSION\"),\n",
    "    deployment_name=os.getenv(\"AZURE_OPENAI_DEPLOYMENT_NAME\"),\n",
    ")"
   ]
  },
  {
   "cell_type": "code",
   "execution_count": 8,
   "metadata": {},
   "outputs": [
    {
     "name": "stdout",
     "output_type": "stream",
     "text": [
      "Now working on: CompliSpaceAssurance/Cyber Security/Cyber Security/Cyber Security Audit Checklist.json\n",
      "{'title': 'Cyber Security Audit Checklist', 'summary': \"A comprehensive checklist designed to assess and improve an organization's cyber security framework, including policies, risk management, incident response, and compliance.\", 'price': 86.5, 'category': ['checklist'], 'path': 'CompliSpaceAssurance/Cyber Security/Cyber Security/Cyber Security Audit Checklist.json'}\n"
     ]
    },
    {
     "ename": "ValueError",
     "evalue": "Expected metadata value to be a str, int, float or bool, got ['checklist'] which is a list in upsert.\n\nTry filtering complex metadata from the document using langchain_community.vectorstores.utils.filter_complex_metadata.",
     "output_type": "error",
     "traceback": [
      "\u001b[1;31m---------------------------------------------------------------------------\u001b[0m",
      "\u001b[1;31mValueError\u001b[0m                                Traceback (most recent call last)",
      "File \u001b[1;32mc:\\Projects\\hackathon\\commercial-contents-agent\\docs-keeper-agent\\.venv\\Lib\\site-packages\\chromadb\\api\\models\\CollectionCommon.py:90\u001b[0m, in \u001b[0;36mvalidation_context.<locals>.decorator.<locals>.wrapper\u001b[1;34m(self, *args, **kwargs)\u001b[0m\n\u001b[0;32m     89\u001b[0m \u001b[38;5;28;01mtry\u001b[39;00m:\n\u001b[1;32m---> 90\u001b[0m     \u001b[38;5;28;01mreturn\u001b[39;00m \u001b[43mfunc\u001b[49m\u001b[43m(\u001b[49m\u001b[38;5;28;43mself\u001b[39;49m\u001b[43m,\u001b[49m\u001b[43m \u001b[49m\u001b[38;5;241;43m*\u001b[39;49m\u001b[43margs\u001b[49m\u001b[43m,\u001b[49m\u001b[43m \u001b[49m\u001b[38;5;241;43m*\u001b[39;49m\u001b[38;5;241;43m*\u001b[39;49m\u001b[43mkwargs\u001b[49m\u001b[43m)\u001b[49m\n\u001b[0;32m     91\u001b[0m \u001b[38;5;28;01mexcept\u001b[39;00m \u001b[38;5;167;01mException\u001b[39;00m \u001b[38;5;28;01mas\u001b[39;00m e:\n",
      "File \u001b[1;32mc:\\Projects\\hackathon\\commercial-contents-agent\\docs-keeper-agent\\.venv\\Lib\\site-packages\\chromadb\\api\\models\\CollectionCommon.py:399\u001b[0m, in \u001b[0;36mCollectionCommon._validate_and_prepare_upsert_request\u001b[1;34m(self, ids, embeddings, metadatas, documents, images, uris)\u001b[0m\n\u001b[0;32m    398\u001b[0m \u001b[38;5;66;03m# Validate\u001b[39;00m\n\u001b[1;32m--> 399\u001b[0m \u001b[43mvalidate_insert_record_set\u001b[49m\u001b[43m(\u001b[49m\u001b[43mrecord_set\u001b[49m\u001b[38;5;241;43m=\u001b[39;49m\u001b[43mupsert_records\u001b[49m\u001b[43m)\u001b[49m\n\u001b[0;32m    401\u001b[0m \u001b[38;5;66;03m# Prepare\u001b[39;00m\n",
      "File \u001b[1;32mc:\\Projects\\hackathon\\commercial-contents-agent\\docs-keeper-agent\\.venv\\Lib\\site-packages\\chromadb\\api\\types.py:230\u001b[0m, in \u001b[0;36mvalidate_insert_record_set\u001b[1;34m(record_set)\u001b[0m\n\u001b[0;32m    229\u001b[0m \u001b[38;5;28;01mif\u001b[39;00m record_set[\u001b[38;5;124m\"\u001b[39m\u001b[38;5;124mmetadatas\u001b[39m\u001b[38;5;124m\"\u001b[39m] \u001b[38;5;129;01mis\u001b[39;00m \u001b[38;5;129;01mnot\u001b[39;00m \u001b[38;5;28;01mNone\u001b[39;00m:\n\u001b[1;32m--> 230\u001b[0m     \u001b[43mvalidate_metadatas\u001b[49m\u001b[43m(\u001b[49m\u001b[43mrecord_set\u001b[49m\u001b[43m[\u001b[49m\u001b[38;5;124;43m\"\u001b[39;49m\u001b[38;5;124;43mmetadatas\u001b[39;49m\u001b[38;5;124;43m\"\u001b[39;49m\u001b[43m]\u001b[49m\u001b[43m)\u001b[49m\n",
      "File \u001b[1;32mc:\\Projects\\hackathon\\commercial-contents-agent\\docs-keeper-agent\\.venv\\Lib\\site-packages\\chromadb\\api\\types.py:592\u001b[0m, in \u001b[0;36mvalidate_metadatas\u001b[1;34m(metadatas)\u001b[0m\n\u001b[0;32m    591\u001b[0m \u001b[38;5;28;01mfor\u001b[39;00m metadata \u001b[38;5;129;01min\u001b[39;00m metadatas:\n\u001b[1;32m--> 592\u001b[0m     \u001b[43mvalidate_metadata\u001b[49m\u001b[43m(\u001b[49m\u001b[43mmetadata\u001b[49m\u001b[43m)\u001b[49m\n\u001b[0;32m    593\u001b[0m \u001b[38;5;28;01mreturn\u001b[39;00m metadatas\n",
      "File \u001b[1;32mc:\\Projects\\hackathon\\commercial-contents-agent\\docs-keeper-agent\\.venv\\Lib\\site-packages\\chromadb\\api\\types.py:558\u001b[0m, in \u001b[0;36mvalidate_metadata\u001b[1;34m(metadata)\u001b[0m\n\u001b[0;32m    557\u001b[0m     \u001b[38;5;28;01mif\u001b[39;00m \u001b[38;5;129;01mnot\u001b[39;00m \u001b[38;5;28misinstance\u001b[39m(value, \u001b[38;5;28mbool\u001b[39m) \u001b[38;5;129;01mand\u001b[39;00m \u001b[38;5;129;01mnot\u001b[39;00m \u001b[38;5;28misinstance\u001b[39m(value, (\u001b[38;5;28mstr\u001b[39m, \u001b[38;5;28mint\u001b[39m, \u001b[38;5;28mfloat\u001b[39m)):\n\u001b[1;32m--> 558\u001b[0m         \u001b[38;5;28;01mraise\u001b[39;00m \u001b[38;5;167;01mValueError\u001b[39;00m(\n\u001b[0;32m    559\u001b[0m             \u001b[38;5;124mf\u001b[39m\u001b[38;5;124m\"\u001b[39m\u001b[38;5;124mExpected metadata value to be a str, int, float or bool, got \u001b[39m\u001b[38;5;132;01m{\u001b[39;00mvalue\u001b[38;5;132;01m}\u001b[39;00m\u001b[38;5;124m which is a \u001b[39m\u001b[38;5;132;01m{\u001b[39;00m\u001b[38;5;28mtype\u001b[39m(value)\u001b[38;5;241m.\u001b[39m\u001b[38;5;18m__name__\u001b[39m\u001b[38;5;132;01m}\u001b[39;00m\u001b[38;5;124m\"\u001b[39m\n\u001b[0;32m    560\u001b[0m         )\n\u001b[0;32m    561\u001b[0m \u001b[38;5;28;01mreturn\u001b[39;00m metadata\n",
      "\u001b[1;31mValueError\u001b[0m: Expected metadata value to be a str, int, float or bool, got ['checklist'] which is a list",
      "\nDuring handling of the above exception, another exception occurred:\n",
      "\u001b[1;31mValueError\u001b[0m                                Traceback (most recent call last)",
      "File \u001b[1;32mc:\\Projects\\hackathon\\commercial-contents-agent\\docs-keeper-agent\\.venv\\Lib\\site-packages\\langchain_chroma\\vectorstores.py:556\u001b[0m, in \u001b[0;36mChroma.add_texts\u001b[1;34m(self, texts, metadatas, ids, **kwargs)\u001b[0m\n\u001b[0;32m    555\u001b[0m \u001b[38;5;28;01mtry\u001b[39;00m:\n\u001b[1;32m--> 556\u001b[0m     \u001b[38;5;28;43mself\u001b[39;49m\u001b[38;5;241;43m.\u001b[39;49m\u001b[43m_collection\u001b[49m\u001b[38;5;241;43m.\u001b[39;49m\u001b[43mupsert\u001b[49m\u001b[43m(\u001b[49m\n\u001b[0;32m    557\u001b[0m \u001b[43m        \u001b[49m\u001b[43mmetadatas\u001b[49m\u001b[38;5;241;43m=\u001b[39;49m\u001b[43mmetadatas\u001b[49m\u001b[43m,\u001b[49m\u001b[43m  \u001b[49m\u001b[38;5;66;43;03m# type: ignore\u001b[39;49;00m\n\u001b[0;32m    558\u001b[0m \u001b[43m        \u001b[49m\u001b[43membeddings\u001b[49m\u001b[38;5;241;43m=\u001b[39;49m\u001b[43membeddings_with_metadatas\u001b[49m\u001b[43m,\u001b[49m\u001b[43m  \u001b[49m\u001b[38;5;66;43;03m# type: ignore\u001b[39;49;00m\n\u001b[0;32m    559\u001b[0m \u001b[43m        \u001b[49m\u001b[43mdocuments\u001b[49m\u001b[38;5;241;43m=\u001b[39;49m\u001b[43mtexts_with_metadatas\u001b[49m\u001b[43m,\u001b[49m\n\u001b[0;32m    560\u001b[0m \u001b[43m        \u001b[49m\u001b[43mids\u001b[49m\u001b[38;5;241;43m=\u001b[39;49m\u001b[43mids_with_metadata\u001b[49m\u001b[43m,\u001b[49m\n\u001b[0;32m    561\u001b[0m \u001b[43m    \u001b[49m\u001b[43m)\u001b[49m\n\u001b[0;32m    562\u001b[0m \u001b[38;5;28;01mexcept\u001b[39;00m \u001b[38;5;167;01mValueError\u001b[39;00m \u001b[38;5;28;01mas\u001b[39;00m e:\n",
      "File \u001b[1;32mc:\\Projects\\hackathon\\commercial-contents-agent\\docs-keeper-agent\\.venv\\Lib\\site-packages\\chromadb\\api\\models\\Collection.py:335\u001b[0m, in \u001b[0;36mCollection.upsert\u001b[1;34m(self, ids, embeddings, metadatas, documents, images, uris)\u001b[0m\n\u001b[0;32m    324\u001b[0m \u001b[38;5;250m\u001b[39m\u001b[38;5;124;03m\"\"\"Update the embeddings, metadatas or documents for provided ids, or create them if they don't exist.\u001b[39;00m\n\u001b[0;32m    325\u001b[0m \n\u001b[0;32m    326\u001b[0m \u001b[38;5;124;03mArgs:\u001b[39;00m\n\u001b[1;32m   (...)\u001b[0m\n\u001b[0;32m    333\u001b[0m \u001b[38;5;124;03m    None\u001b[39;00m\n\u001b[0;32m    334\u001b[0m \u001b[38;5;124;03m\"\"\"\u001b[39;00m\n\u001b[1;32m--> 335\u001b[0m upsert_request \u001b[38;5;241m=\u001b[39m \u001b[38;5;28;43mself\u001b[39;49m\u001b[38;5;241;43m.\u001b[39;49m\u001b[43m_validate_and_prepare_upsert_request\u001b[49m\u001b[43m(\u001b[49m\n\u001b[0;32m    336\u001b[0m \u001b[43m    \u001b[49m\u001b[43mids\u001b[49m\u001b[38;5;241;43m=\u001b[39;49m\u001b[43mids\u001b[49m\u001b[43m,\u001b[49m\n\u001b[0;32m    337\u001b[0m \u001b[43m    \u001b[49m\u001b[43membeddings\u001b[49m\u001b[38;5;241;43m=\u001b[39;49m\u001b[43membeddings\u001b[49m\u001b[43m,\u001b[49m\n\u001b[0;32m    338\u001b[0m \u001b[43m    \u001b[49m\u001b[43mmetadatas\u001b[49m\u001b[38;5;241;43m=\u001b[39;49m\u001b[43mmetadatas\u001b[49m\u001b[43m,\u001b[49m\n\u001b[0;32m    339\u001b[0m \u001b[43m    \u001b[49m\u001b[43mdocuments\u001b[49m\u001b[38;5;241;43m=\u001b[39;49m\u001b[43mdocuments\u001b[49m\u001b[43m,\u001b[49m\n\u001b[0;32m    340\u001b[0m \u001b[43m    \u001b[49m\u001b[43mimages\u001b[49m\u001b[38;5;241;43m=\u001b[39;49m\u001b[43mimages\u001b[49m\u001b[43m,\u001b[49m\n\u001b[0;32m    341\u001b[0m \u001b[43m    \u001b[49m\u001b[43muris\u001b[49m\u001b[38;5;241;43m=\u001b[39;49m\u001b[43muris\u001b[49m\u001b[43m,\u001b[49m\n\u001b[0;32m    342\u001b[0m \u001b[43m\u001b[49m\u001b[43m)\u001b[49m\n\u001b[0;32m    344\u001b[0m \u001b[38;5;28mself\u001b[39m\u001b[38;5;241m.\u001b[39m_client\u001b[38;5;241m.\u001b[39m_upsert(\n\u001b[0;32m    345\u001b[0m     collection_id\u001b[38;5;241m=\u001b[39m\u001b[38;5;28mself\u001b[39m\u001b[38;5;241m.\u001b[39mid,\n\u001b[0;32m    346\u001b[0m     ids\u001b[38;5;241m=\u001b[39mupsert_request[\u001b[38;5;124m\"\u001b[39m\u001b[38;5;124mids\u001b[39m\u001b[38;5;124m\"\u001b[39m],\n\u001b[1;32m   (...)\u001b[0m\n\u001b[0;32m    352\u001b[0m     database\u001b[38;5;241m=\u001b[39m\u001b[38;5;28mself\u001b[39m\u001b[38;5;241m.\u001b[39mdatabase,\n\u001b[0;32m    353\u001b[0m )\n",
      "File \u001b[1;32mc:\\Projects\\hackathon\\commercial-contents-agent\\docs-keeper-agent\\.venv\\Lib\\site-packages\\chromadb\\api\\models\\CollectionCommon.py:93\u001b[0m, in \u001b[0;36mvalidation_context.<locals>.decorator.<locals>.wrapper\u001b[1;34m(self, *args, **kwargs)\u001b[0m\n\u001b[0;32m     92\u001b[0m msg \u001b[38;5;241m=\u001b[39m \u001b[38;5;124mf\u001b[39m\u001b[38;5;124m\"\u001b[39m\u001b[38;5;132;01m{\u001b[39;00m\u001b[38;5;28mstr\u001b[39m(e)\u001b[38;5;132;01m}\u001b[39;00m\u001b[38;5;124m in \u001b[39m\u001b[38;5;132;01m{\u001b[39;00mname\u001b[38;5;132;01m}\u001b[39;00m\u001b[38;5;124m.\u001b[39m\u001b[38;5;124m\"\u001b[39m\n\u001b[1;32m---> 93\u001b[0m \u001b[38;5;28;01mraise\u001b[39;00m \u001b[38;5;28mtype\u001b[39m(e)(msg)\u001b[38;5;241m.\u001b[39mwith_traceback(e\u001b[38;5;241m.\u001b[39m__traceback__)\n",
      "File \u001b[1;32mc:\\Projects\\hackathon\\commercial-contents-agent\\docs-keeper-agent\\.venv\\Lib\\site-packages\\chromadb\\api\\models\\CollectionCommon.py:90\u001b[0m, in \u001b[0;36mvalidation_context.<locals>.decorator.<locals>.wrapper\u001b[1;34m(self, *args, **kwargs)\u001b[0m\n\u001b[0;32m     89\u001b[0m \u001b[38;5;28;01mtry\u001b[39;00m:\n\u001b[1;32m---> 90\u001b[0m     \u001b[38;5;28;01mreturn\u001b[39;00m \u001b[43mfunc\u001b[49m\u001b[43m(\u001b[49m\u001b[38;5;28;43mself\u001b[39;49m\u001b[43m,\u001b[49m\u001b[43m \u001b[49m\u001b[38;5;241;43m*\u001b[39;49m\u001b[43margs\u001b[49m\u001b[43m,\u001b[49m\u001b[43m \u001b[49m\u001b[38;5;241;43m*\u001b[39;49m\u001b[38;5;241;43m*\u001b[39;49m\u001b[43mkwargs\u001b[49m\u001b[43m)\u001b[49m\n\u001b[0;32m     91\u001b[0m \u001b[38;5;28;01mexcept\u001b[39;00m \u001b[38;5;167;01mException\u001b[39;00m \u001b[38;5;28;01mas\u001b[39;00m e:\n",
      "File \u001b[1;32mc:\\Projects\\hackathon\\commercial-contents-agent\\docs-keeper-agent\\.venv\\Lib\\site-packages\\chromadb\\api\\models\\CollectionCommon.py:399\u001b[0m, in \u001b[0;36mCollectionCommon._validate_and_prepare_upsert_request\u001b[1;34m(self, ids, embeddings, metadatas, documents, images, uris)\u001b[0m\n\u001b[0;32m    398\u001b[0m \u001b[38;5;66;03m# Validate\u001b[39;00m\n\u001b[1;32m--> 399\u001b[0m \u001b[43mvalidate_insert_record_set\u001b[49m\u001b[43m(\u001b[49m\u001b[43mrecord_set\u001b[49m\u001b[38;5;241;43m=\u001b[39;49m\u001b[43mupsert_records\u001b[49m\u001b[43m)\u001b[49m\n\u001b[0;32m    401\u001b[0m \u001b[38;5;66;03m# Prepare\u001b[39;00m\n",
      "File \u001b[1;32mc:\\Projects\\hackathon\\commercial-contents-agent\\docs-keeper-agent\\.venv\\Lib\\site-packages\\chromadb\\api\\types.py:230\u001b[0m, in \u001b[0;36mvalidate_insert_record_set\u001b[1;34m(record_set)\u001b[0m\n\u001b[0;32m    229\u001b[0m \u001b[38;5;28;01mif\u001b[39;00m record_set[\u001b[38;5;124m\"\u001b[39m\u001b[38;5;124mmetadatas\u001b[39m\u001b[38;5;124m\"\u001b[39m] \u001b[38;5;129;01mis\u001b[39;00m \u001b[38;5;129;01mnot\u001b[39;00m \u001b[38;5;28;01mNone\u001b[39;00m:\n\u001b[1;32m--> 230\u001b[0m     \u001b[43mvalidate_metadatas\u001b[49m\u001b[43m(\u001b[49m\u001b[43mrecord_set\u001b[49m\u001b[43m[\u001b[49m\u001b[38;5;124;43m\"\u001b[39;49m\u001b[38;5;124;43mmetadatas\u001b[39;49m\u001b[38;5;124;43m\"\u001b[39;49m\u001b[43m]\u001b[49m\u001b[43m)\u001b[49m\n",
      "File \u001b[1;32mc:\\Projects\\hackathon\\commercial-contents-agent\\docs-keeper-agent\\.venv\\Lib\\site-packages\\chromadb\\api\\types.py:592\u001b[0m, in \u001b[0;36mvalidate_metadatas\u001b[1;34m(metadatas)\u001b[0m\n\u001b[0;32m    591\u001b[0m \u001b[38;5;28;01mfor\u001b[39;00m metadata \u001b[38;5;129;01min\u001b[39;00m metadatas:\n\u001b[1;32m--> 592\u001b[0m     \u001b[43mvalidate_metadata\u001b[49m\u001b[43m(\u001b[49m\u001b[43mmetadata\u001b[49m\u001b[43m)\u001b[49m\n\u001b[0;32m    593\u001b[0m \u001b[38;5;28;01mreturn\u001b[39;00m metadatas\n",
      "File \u001b[1;32mc:\\Projects\\hackathon\\commercial-contents-agent\\docs-keeper-agent\\.venv\\Lib\\site-packages\\chromadb\\api\\types.py:558\u001b[0m, in \u001b[0;36mvalidate_metadata\u001b[1;34m(metadata)\u001b[0m\n\u001b[0;32m    557\u001b[0m     \u001b[38;5;28;01mif\u001b[39;00m \u001b[38;5;129;01mnot\u001b[39;00m \u001b[38;5;28misinstance\u001b[39m(value, \u001b[38;5;28mbool\u001b[39m) \u001b[38;5;129;01mand\u001b[39;00m \u001b[38;5;129;01mnot\u001b[39;00m \u001b[38;5;28misinstance\u001b[39m(value, (\u001b[38;5;28mstr\u001b[39m, \u001b[38;5;28mint\u001b[39m, \u001b[38;5;28mfloat\u001b[39m)):\n\u001b[1;32m--> 558\u001b[0m         \u001b[38;5;28;01mraise\u001b[39;00m \u001b[38;5;167;01mValueError\u001b[39;00m(\n\u001b[0;32m    559\u001b[0m             \u001b[38;5;124mf\u001b[39m\u001b[38;5;124m\"\u001b[39m\u001b[38;5;124mExpected metadata value to be a str, int, float or bool, got \u001b[39m\u001b[38;5;132;01m{\u001b[39;00mvalue\u001b[38;5;132;01m}\u001b[39;00m\u001b[38;5;124m which is a \u001b[39m\u001b[38;5;132;01m{\u001b[39;00m\u001b[38;5;28mtype\u001b[39m(value)\u001b[38;5;241m.\u001b[39m\u001b[38;5;18m__name__\u001b[39m\u001b[38;5;132;01m}\u001b[39;00m\u001b[38;5;124m\"\u001b[39m\n\u001b[0;32m    560\u001b[0m         )\n\u001b[0;32m    561\u001b[0m \u001b[38;5;28;01mreturn\u001b[39;00m metadata\n",
      "\u001b[1;31mValueError\u001b[0m: Expected metadata value to be a str, int, float or bool, got ['checklist'] which is a list in upsert.",
      "\nDuring handling of the above exception, another exception occurred:\n",
      "\u001b[1;31mValueError\u001b[0m                                Traceback (most recent call last)",
      "Cell \u001b[1;32mIn[8], line 34\u001b[0m\n\u001b[0;32m     32\u001b[0m \u001b[38;5;66;03m# Store in the db\u001b[39;00m\n\u001b[0;32m     33\u001b[0m doc_id \u001b[38;5;241m=\u001b[39m \u001b[38;5;28mstr\u001b[39m(uuid\u001b[38;5;241m.\u001b[39muuid4())\n\u001b[1;32m---> 34\u001b[0m \u001b[43mvector_store\u001b[49m\u001b[38;5;241;43m.\u001b[39;49m\u001b[43madd_documents\u001b[49m\u001b[43m(\u001b[49m\u001b[43m[\u001b[49m\u001b[43mdocument\u001b[49m\u001b[43m]\u001b[49m\u001b[43m,\u001b[49m\u001b[43m \u001b[49m\u001b[43mids\u001b[49m\u001b[38;5;241;43m=\u001b[39;49m\u001b[43m[\u001b[49m\u001b[43mdoc_id\u001b[49m\u001b[43m]\u001b[49m\u001b[43m)\u001b[49m\n\u001b[0;32m     36\u001b[0m \u001b[38;5;66;03m# Write data to a JSON file just for easy viewing\u001b[39;00m\n\u001b[0;32m     37\u001b[0m write_to_db(response_json)\n",
      "File \u001b[1;32mc:\\Projects\\hackathon\\commercial-contents-agent\\docs-keeper-agent\\.venv\\Lib\\site-packages\\langchain_core\\vectorstores\\base.py:286\u001b[0m, in \u001b[0;36mVectorStore.add_documents\u001b[1;34m(self, documents, **kwargs)\u001b[0m\n\u001b[0;32m    284\u001b[0m     texts \u001b[38;5;241m=\u001b[39m [doc\u001b[38;5;241m.\u001b[39mpage_content \u001b[38;5;28;01mfor\u001b[39;00m doc \u001b[38;5;129;01min\u001b[39;00m documents]\n\u001b[0;32m    285\u001b[0m     metadatas \u001b[38;5;241m=\u001b[39m [doc\u001b[38;5;241m.\u001b[39mmetadata \u001b[38;5;28;01mfor\u001b[39;00m doc \u001b[38;5;129;01min\u001b[39;00m documents]\n\u001b[1;32m--> 286\u001b[0m     \u001b[38;5;28;01mreturn\u001b[39;00m \u001b[38;5;28;43mself\u001b[39;49m\u001b[38;5;241;43m.\u001b[39;49m\u001b[43madd_texts\u001b[49m\u001b[43m(\u001b[49m\u001b[43mtexts\u001b[49m\u001b[43m,\u001b[49m\u001b[43m \u001b[49m\u001b[43mmetadatas\u001b[49m\u001b[43m,\u001b[49m\u001b[43m \u001b[49m\u001b[38;5;241;43m*\u001b[39;49m\u001b[38;5;241;43m*\u001b[39;49m\u001b[43mkwargs\u001b[49m\u001b[43m)\u001b[49m\n\u001b[0;32m    287\u001b[0m msg \u001b[38;5;241m=\u001b[39m (\n\u001b[0;32m    288\u001b[0m     \u001b[38;5;124mf\u001b[39m\u001b[38;5;124m\"\u001b[39m\u001b[38;5;124m`add_documents` and `add_texts` has not been implemented \u001b[39m\u001b[38;5;124m\"\u001b[39m\n\u001b[0;32m    289\u001b[0m     \u001b[38;5;124mf\u001b[39m\u001b[38;5;124m\"\u001b[39m\u001b[38;5;124mfor \u001b[39m\u001b[38;5;132;01m{\u001b[39;00m\u001b[38;5;28mself\u001b[39m\u001b[38;5;241m.\u001b[39m\u001b[38;5;18m__class__\u001b[39m\u001b[38;5;241m.\u001b[39m\u001b[38;5;18m__name__\u001b[39m\u001b[38;5;132;01m}\u001b[39;00m\u001b[38;5;124m \u001b[39m\u001b[38;5;124m\"\u001b[39m\n\u001b[0;32m    290\u001b[0m )\n\u001b[0;32m    291\u001b[0m \u001b[38;5;28;01mraise\u001b[39;00m \u001b[38;5;167;01mNotImplementedError\u001b[39;00m(msg)\n",
      "File \u001b[1;32mc:\\Projects\\hackathon\\commercial-contents-agent\\docs-keeper-agent\\.venv\\Lib\\site-packages\\langchain_chroma\\vectorstores.py:568\u001b[0m, in \u001b[0;36mChroma.add_texts\u001b[1;34m(self, texts, metadatas, ids, **kwargs)\u001b[0m\n\u001b[0;32m    563\u001b[0m \u001b[38;5;28;01mif\u001b[39;00m \u001b[38;5;124m\"\u001b[39m\u001b[38;5;124mExpected metadata value to be\u001b[39m\u001b[38;5;124m\"\u001b[39m \u001b[38;5;129;01min\u001b[39;00m \u001b[38;5;28mstr\u001b[39m(e):\n\u001b[0;32m    564\u001b[0m     msg \u001b[38;5;241m=\u001b[39m (\n\u001b[0;32m    565\u001b[0m         \u001b[38;5;124m\"\u001b[39m\u001b[38;5;124mTry filtering complex metadata from the document using \u001b[39m\u001b[38;5;124m\"\u001b[39m\n\u001b[0;32m    566\u001b[0m         \u001b[38;5;124m\"\u001b[39m\u001b[38;5;124mlangchain_community.vectorstores.utils.filter_complex_metadata.\u001b[39m\u001b[38;5;124m\"\u001b[39m\n\u001b[0;32m    567\u001b[0m     )\n\u001b[1;32m--> 568\u001b[0m     \u001b[38;5;28;01mraise\u001b[39;00m \u001b[38;5;167;01mValueError\u001b[39;00m(e\u001b[38;5;241m.\u001b[39margs[\u001b[38;5;241m0\u001b[39m] \u001b[38;5;241m+\u001b[39m \u001b[38;5;124m\"\u001b[39m\u001b[38;5;130;01m\\n\u001b[39;00m\u001b[38;5;130;01m\\n\u001b[39;00m\u001b[38;5;124m\"\u001b[39m \u001b[38;5;241m+\u001b[39m msg)\n\u001b[0;32m    569\u001b[0m \u001b[38;5;28;01melse\u001b[39;00m:\n\u001b[0;32m    570\u001b[0m     \u001b[38;5;28;01mraise\u001b[39;00m e\n",
      "\u001b[1;31mValueError\u001b[0m: Expected metadata value to be a str, int, float or bool, got ['checklist'] which is a list in upsert.\n\nTry filtering complex metadata from the document using langchain_community.vectorstores.utils.filter_complex_metadata."
     ]
    }
   ],
   "source": [
    "# Go through each document in the bucket\n",
    "for obj in bucket.objects.all():\n",
    "    print(f\"Now working on: {obj.key}\")\n",
    "    obj_contents = obj.get()['Body'].read()\n",
    "\n",
    "    if obj.key.split('.')[-1] == 'pdf':\n",
    "        obj_contents = pdf_bytes_to_text(obj_contents)\n",
    "    else:\n",
    "        obj_contents = str(obj_contents)\n",
    "\n",
    "    # Create the message for the LLM\n",
    "    messages = [\n",
    "        (\"system\", system_instructions),\n",
    "        (\"human\", obj_contents),\n",
    "    ]\n",
    "\n",
    "    # Invoke the conversation\n",
    "    response = model.invoke(messages)\n",
    "    \n",
    "    # Clean and update the JSON response\n",
    "    response_clean = clean_json_string(response.content)\n",
    "    response_json = json.loads(response_clean)\n",
    "    response_json[\"path\"] = obj.key\n",
    "    print(response_json)\n",
    "\n",
    "    # Create a document object\n",
    "    document = Document(\n",
    "        page_content=obj_contents,\n",
    "        metadata=response_json,\n",
    "    )\n",
    "\n",
    "    # Store in the db\n",
    "    doc_id = str(uuid.uuid4())\n",
    "    vector_store.add_documents([document], ids=[doc_id])\n",
    "\n",
    "    # Write data to a JSON file just for easy viewing\n",
    "    write_to_db(response_json)"
   ]
  },
  {
   "cell_type": "markdown",
   "metadata": {},
   "source": [
    "### Perform similarity search"
   ]
  },
  {
   "cell_type": "code",
   "execution_count": null,
   "metadata": {},
   "outputs": [],
   "source": [
    "# Define the prompt\n",
    "prompt = \"What constitutes a cyber security risk?\""
   ]
  },
  {
   "cell_type": "code",
   "execution_count": null,
   "metadata": {},
   "outputs": [
    {
     "name": "stdout",
     "output_type": "stream",
     "text": [
      "* [SIM=0.314717] [{'path': 'CompliSpaceAssurance/Cyber Security/Cyber Security/Risk Register/4 Cyber Security Risk Register Upload Spreadsheet.csv', 'price': 78.99, 'summary': 'A comprehensive guide to understanding various cyber security risks, their potential consequences, and effective management strategies.', 'title': 'Cyber Security Risks and Management'}]\n",
      "* [SIM=0.434820] [{'path': 'CompliSpaceAssurance/Cyber Security/Cyber Security/Risk Register/3 Cyber Security Risk Register Order of Fields.pdf', 'price': 83.49, 'summary': 'This document outlines key risks, their descriptions, potential consequences, classifications, and control strategies within an organization. It also details responsible persons and business units involved in managing these risks.', 'title': 'Risk Management Document'}]\n",
      "* [SIM=0.514152] [{'path': 'CompliSpaceAssurance/Cyber Security/Cyber Security/Risk Register/Cyber Security Possible Risk Controls and Treatments (1).docx', 'price': 72.99, 'summary': 'This is the extracted content from a Word document (.docx) file. It consists of various internal files such as XML and PNG files that make up the document structure and metadata.', 'title': 'Unzipped Contents of a Word Document'}]\n",
      "* [SIM=0.525162] [{'path': 'CompliSpaceAssurance/Cyber Security/Cyber Security/Cyber Security Audit Checklist.json', 'price': 85.99, 'summary': 'A comprehensive checklist to audit cyber security practices, including governance, risk identification, protection, incident response, monitoring, physical security, data protection, third-party management, and user access control.', 'title': 'Cyber Security Audit Checklist'}]\n",
      "* [SIM=0.540622] [{'path': 'CompliSpaceAssurance/Cyber Security/Cyber Security/Cyber Security Incident Register.json', 'price': 87.45, 'summary': 'A comprehensive template for documenting, managing, and reviewing cyber security incidents, including stages for incident reporting, remediation action plans, and post-incident reviews.', 'title': 'Cyber Security Incident Register Template'}]\n"
     ]
    }
   ],
   "source": [
    "# Perform vector search\n",
    "results = vector_store.similarity_search_with_score(prompt, k=5)\n",
    "\n",
    "for result, score in results:\n",
    "    print(f\"* [SIM={score:3f}] [{result.metadata}]\")"
   ]
  },
  {
   "cell_type": "markdown",
   "metadata": {},
   "source": [
    "### Prompt a model with the files as context"
   ]
  },
  {
   "cell_type": "code",
   "execution_count": null,
   "metadata": {},
   "outputs": [],
   "source": [
    "# Define the retriever function\n",
    "similarity_threshold = 0.5\n",
    "retriever = vector_store.as_retriever(search_type=\"similarity_score_threshold\",\n",
    "                                      search_kwargs={\"k\": 5, \"score_threshold\": similarity_threshold})"
   ]
  },
  {
   "cell_type": "code",
   "execution_count": null,
   "metadata": {},
   "outputs": [],
   "source": [
    "qa = RetrievalQA.from_chain_type(\n",
    "    llm=model,\n",
    "    chain_type=\"stuff\", \n",
    "    retriever=retriever, \n",
    "    return_source_documents=True \n",
    ")"
   ]
  },
  {
   "cell_type": "code",
   "execution_count": null,
   "metadata": {},
   "outputs": [
    {
     "name": "stdout",
     "output_type": "stream",
     "text": [
      "Answer: A cyber security risk generally refers to the potential for unauthorized access, exposure, manipulation, or destruction of information and systems within an organization. Here are some key components that constitute a cyber security risk:\n",
      "\n",
      "1. **Unauthorized Access:** Gaining access to systems, networks, or data without permission, which can lead to data breaches and theft of sensitive information.\n",
      "\n",
      "2. **Data Exposure:** Sensitive or personal information is accessed, disclosed, or exposed to unauthorized people, leading to data breaches and potentially compromising intellectual property or personal information.\n",
      "\n",
      "3. **Data Manipulation:** Unauthorized changes or corruption of data that can affect the integrity and reliability of the information systems.\n",
      "\n",
      "4. **Data Destruction:** Intentional deletion or destruction of data, which can disrupt business operations and lead to significant financial and reputational damage.\n",
      "\n",
      "5. **Malicious Software (Malware):** Installation of malicious software designed to disrupt, damage, or gain unauthorized access to computer systems. This can include ransomware, viruses, worms, and spyware.\n",
      "\n",
      "6. **Phishing:** Fraudulent attempts via email or text messages to trick individuals into providing personal information or downloading malicious software.\n",
      "\n",
      "7. **Hacking:** Unauthorized access to systems or networks to exploit data or manipulate normal behavior.\n",
      "\n",
      "8. **Identity Theft:** Gaining access to personal information to impersonate someone, which can lead to unauthorized transactions and other fraudulent activities.\n",
      "\n",
      "9. **Business Email Compromise:** Using email to deceive an organization into performing unauthorized actions, such as transferring funds or disclosing confidential information.\n",
      "\n",
      "10. **Account Compromise:** Unauthorized access to email or other operational accounts, which can result in data theft and further exploitation of the compromised accounts.\n",
      "\n",
      "11. **Insider Threats:** Malicious insiders using legitimate access to steal data or sabotage systems.\n",
      "\n",
      "12. **Denial-of-Service (DoS) Attacks:** Overwhelming systems with traffic to make them unavailable to users, disrupting normal business operations.\n",
      "\n",
      "These risks can lead to various consequences such as financial loss, reputational damage, legal liabilities, and operational disruptions. Identifying, assessing, and mitigating these risks are critical components of a robust cyber security strategy.\n",
      "\n",
      "Source documents: ['CompliSpaceAssurance/Cyber Security/Cyber Security/Risk Register/3 Cyber Security Risk Register Order of Fields.pdf', 'CompliSpaceAssurance/Cyber Security/Cyber Security/Cyber Security Audit Checklist.json', 'CompliSpaceAssurance/Cyber Security/Cyber Security/Risk Register/Cyber Security Possible Risk Controls and Treatments (1).docx', 'CompliSpaceAssurance/Cyber Security/Cyber Security/Cyber Security Incident Register.json', 'CompliSpaceAssurance/Cyber Security/Cyber Security/Risk Register/4 Cyber Security Risk Register Upload Spreadsheet.csv']\n"
     ]
    }
   ],
   "source": [
    "# Invoke the model for RAG\n",
    "answer = qa.invoke({\"query\": prompt})\n",
    "string_answer = answer['result']\n",
    "\n",
    "chunks= []\n",
    "for i in range(len(answer['source_documents'])):\n",
    "    chunks.append(answer['source_documents'][i].metadata['path'])\n",
    "chunks_unique = list(set(chunks))\n",
    "\n",
    "print(f\"Answer: {string_answer}\\n\")\n",
    "print(f\"Source documents: {chunks_unique}\")"
   ]
  }
 ],
 "metadata": {
  "kernelspec": {
   "display_name": ".venv",
   "language": "python",
   "name": "python3"
  },
  "language_info": {
   "codemirror_mode": {
    "name": "ipython",
    "version": 3
   },
   "file_extension": ".py",
   "mimetype": "text/x-python",
   "name": "python",
   "nbconvert_exporter": "python",
   "pygments_lexer": "ipython3",
   "version": "3.11.9"
  }
 },
 "nbformat": 4,
 "nbformat_minor": 2
}
