{
 "cells": [
  {
   "cell_type": "markdown",
   "metadata": {},
   "source": [
    "### Package imports"
   ]
  },
  {
   "cell_type": "code",
   "execution_count": 1,
   "metadata": {},
   "outputs": [],
   "source": [
    "from langchain_chroma import Chroma\n",
    "from langchain_openai import AzureOpenAIEmbeddings\n",
    "from langchain_core.documents import Document\n",
    "from langchain_openai import AzureChatOpenAI\n",
    "from langchain.chains import RetrievalQA\n",
    "from utils.utils import pdf_bytes_to_text, clean_json_string, write_to_db\n",
    "from dotenv import load_dotenv\n",
    "import boto3\n",
    "import json\n",
    "import os\n",
    "import uuid"
   ]
  },
  {
   "cell_type": "markdown",
   "metadata": {},
   "source": [
    "### Configurations"
   ]
  },
  {
   "cell_type": "code",
   "execution_count": 2,
   "metadata": {},
   "outputs": [
    {
     "data": {
      "text/plain": [
       "True"
      ]
     },
     "execution_count": 2,
     "metadata": {},
     "output_type": "execute_result"
    }
   ],
   "source": [
    "load_dotenv()"
   ]
  },
  {
   "cell_type": "markdown",
   "metadata": {},
   "source": [
    "### Create a collection"
   ]
  },
  {
   "cell_type": "code",
   "execution_count": 3,
   "metadata": {},
   "outputs": [],
   "source": [
    "# Define the embedding model\n",
    "embeddings = AzureOpenAIEmbeddings(\n",
    "    model=os.getenv('AZURE_OPENAI_EMBEDDING_DEPLOYMENT_NAME'),\n",
    "    api_key=os.getenv(\"AZURE_OPENAI_API_KEY\"),\n",
    "    azure_endpoint=os.getenv(\"AZURE_OPENAI_ENDPOINT\"),\n",
    "    api_version=os.getenv(\"AZURE_OPENAI_API_VERSION\")\n",
    ")"
   ]
  },
  {
   "cell_type": "code",
   "execution_count": 4,
   "metadata": {},
   "outputs": [],
   "source": [
    "# Create the Chroma vector store\n",
    "vector_store = Chroma(\n",
    "    collection_name=\"test_collection\",\n",
    "    embedding_function=embeddings,\n",
    "    persist_directory=\"./chroma_langchain_db\",  # Where to save data locally, remove if not necessary\n",
    ")"
   ]
  },
  {
   "cell_type": "markdown",
   "metadata": {},
   "source": [
    "### Store data in the collection"
   ]
  },
  {
   "cell_type": "code",
   "execution_count": 5,
   "metadata": {},
   "outputs": [],
   "source": [
    "# Connect to S3\n",
    "bucket_name = \"thecrewo6newdocs\"\n",
    "s3 = boto3.resource(\"s3\")\n",
    "bucket = s3.Bucket(bucket_name)"
   ]
  },
  {
   "cell_type": "code",
   "execution_count": 6,
   "metadata": {},
   "outputs": [],
   "source": [
    "# Define the system instructions for metadata tagging\n",
    "with open(\"system_instructions/s3_metadata_tagging.txt\", \"r\") as f:\n",
    "    system_instructions = f.read()"
   ]
  },
  {
   "cell_type": "code",
   "execution_count": 5,
   "metadata": {},
   "outputs": [],
   "source": [
    "# Connect to the Azure OpenAI GPT model\n",
    "model = AzureChatOpenAI(\n",
    "    api_key=os.getenv(\"AZURE_OPENAI_API_KEY\"),\n",
    "    azure_endpoint=os.getenv(\"AZURE_OPENAI_ENDPOINT\"),\n",
    "    api_version=os.getenv(\"AZURE_OPENAI_API_VERSION\"),\n",
    "    deployment_name=os.getenv(\"AZURE_OPENAI_DEPLOYMENT_NAME\"),\n",
    ")"
   ]
  },
  {
   "cell_type": "code",
   "execution_count": null,
   "metadata": {},
   "outputs": [
    {
     "name": "stdout",
     "output_type": "stream",
     "text": [
      "Now working on: CompliSpaceAssurance/Cyber Security/Cyber Security/Cyber Security Audit Checklist.json\n",
      "{\n",
      "    \"title\": \"Cyber Security Audit Checklist\",\n",
      "    \"summary\": \"A comprehensive checklist to audit cyber security practices, including governance, risk identification, protection, incident response, monitoring, physical security, data protection, third-party management, and user access control.\",\n",
      "    \"price\": 85.99\n",
      "}\n",
      "Now working on: CompliSpaceAssurance/Cyber Security/Cyber Security/Cyber Security Incident Register.json\n",
      "{\n",
      "    \"title\": \"Cyber Security Incident Register Template\",\n",
      "    \"summary\": \"A comprehensive template for documenting, managing, and reviewing cyber security incidents, including stages for incident reporting, remediation action plans, and post-incident reviews.\",\n",
      "    \"price\": 87.45\n",
      "}\n",
      "Now working on: CompliSpaceAssurance/Cyber Security/Cyber Security/Cyber Security Risk Control Effectiveness Survey.json\n",
      "{\n",
      "    \"title\": \"Cyber Security Risk Control Effectiveness Survey\",\n",
      "    \"summary\": \"A comprehensive monthly survey to assess the effectiveness of cyber security risk control measures within an organization, covering policies, procedures, asset management, training, incident response plans, software protection, and more.\",\n",
      "    \"price\": 78.49\n",
      "}\n",
      "Now working on: CompliSpaceAssurance/Cyber Security/Cyber Security/Information and Technology Asset Register.json\n",
      "{\n",
      "    \"title\": \"Information and Technology Asset Register\",\n",
      "    \"summary\": \"This document is a contract template for maintaining an information and technology asset register. It includes fields for asset details, type, owner, access controls, storage location, security, cyber security risks, and risk assessment.\",\n",
      "    \"price\": 74.99\n",
      "}\n",
      "Now working on: CompliSpaceAssurance/Cyber Security/Cyber Security/Risk Register/1 Instructions to Deploy Cyber Security Risk Register.boxnote\n",
      "{\n",
      "    \"title\": \"How to Import and Upload JSON Templates for Risk Management\",\n",
      "    \"summary\": \"Step-by-step instructions for downloading, preparing, and uploading JSON Import Templates to a customer's Assurance site. Includes tips on handling field conflicts and risk classifications.\",\n",
      "    \"price\": 82.50\n",
      "}\n",
      "Now working on: CompliSpaceAssurance/Cyber Security/Cyber Security/Risk Register/2 Cyber Security Risk Register (without Risk Classification and Risk Flag).json\n",
      "{\n",
      "    \"title\": \"Cyber Security Risk Register Template\",\n",
      "    \"summary\": \"A comprehensive template for managing cyber security risks, featuring fields for risk description, potential consequences, and control strategies. It includes categorization options and periodic review reminders.\",\n",
      "    \"price\": 82.50\n",
      "}\n",
      "Now working on: CompliSpaceAssurance/Cyber Security/Cyber Security/Risk Register/3 Cyber Security Risk Register Order of Fields.pdf\n",
      "{\n",
      "    \"title\": \"Risk Management Document\",\n",
      "    \"summary\": \"This document outlines key risks, their descriptions, potential consequences, classifications, and control strategies within an organization. It also details responsible persons and business units involved in managing these risks.\",\n",
      "    \"price\": 83.49\n",
      "}\n",
      "Now working on: CompliSpaceAssurance/Cyber Security/Cyber Security/Risk Register/4 Cyber Security Risk Register Upload Spreadsheet.csv\n",
      "{\n",
      "    \"title\": \"Cyber Security Risks and Management\",\n",
      "    \"summary\": \"A comprehensive guide to understanding various cyber security risks, their potential consequences, and effective management strategies.\",\n",
      "    \"price\": 78.99\n",
      "}\n",
      "Now working on: CompliSpaceAssurance/Cyber Security/Cyber Security/Risk Register/Cyber Security Possible Risk Controls and Treatments (1).docx\n",
      "{\n",
      "    \"title\": \"Unzipped Contents of a Word Document\",\n",
      "    \"summary\": \"This is the extracted content from a Word document (.docx) file. It consists of various internal files such as XML and PNG files that make up the document structure and metadata.\",\n",
      "    \"price\": 72.99\n",
      "}\n"
     ]
    }
   ],
   "source": [
    "# Go through each document in the bucket\n",
    "for obj in bucket.objects.all():\n",
    "    print(f\"Now working on: {obj.key}\")\n",
    "    obj_contents = obj.get()['Body'].read()\n",
    "\n",
    "    if obj.key.split('.')[-1] == 'pdf':\n",
    "        obj_contents = pdf_bytes_to_text(obj_contents)\n",
    "    else:\n",
    "        obj_contents = str(obj_contents)\n",
    "\n",
    "    # Create the message for the LLM\n",
    "    messages = [\n",
    "        (\"system\", system_instructions),\n",
    "        (\"human\", obj_contents),\n",
    "    ]\n",
    "\n",
    "    # Invoke the conversation\n",
    "    response = model.invoke(messages)\n",
    "    \n",
    "    # Clean and update the JSON response\n",
    "    response_clean = clean_json_string(response.content)\n",
    "    response_json = json.loads(response_clean)\n",
    "    response_json[\"path\"] = obj.key\n",
    "    print(response_json)\n",
    "\n",
    "    # Create a document object\n",
    "    document = Document(\n",
    "        page_content=obj_contents,\n",
    "        metadata=response_json,\n",
    "    )\n",
    "\n",
    "    # Store in the db\n",
    "    doc_id = str(uuid.uuid4())\n",
    "    vector_store.add_documents([document], ids=[doc_id])"
   ]
  },
  {
   "cell_type": "markdown",
   "metadata": {},
   "source": [
    "### Perform similarity search"
   ]
  },
  {
   "cell_type": "code",
   "execution_count": 11,
   "metadata": {},
   "outputs": [],
   "source": [
    "# Define the prompt\n",
    "prompt = \"What constitutes a cyber security risk?\""
   ]
  },
  {
   "cell_type": "code",
   "execution_count": 12,
   "metadata": {},
   "outputs": [
    {
     "name": "stdout",
     "output_type": "stream",
     "text": [
      "* [SIM=0.314717] [{'path': 'CompliSpaceAssurance/Cyber Security/Cyber Security/Risk Register/4 Cyber Security Risk Register Upload Spreadsheet.csv', 'price': 78.99, 'summary': 'A comprehensive guide to understanding various cyber security risks, their potential consequences, and effective management strategies.', 'title': 'Cyber Security Risks and Management'}]\n",
      "* [SIM=0.434820] [{'path': 'CompliSpaceAssurance/Cyber Security/Cyber Security/Risk Register/3 Cyber Security Risk Register Order of Fields.pdf', 'price': 83.49, 'summary': 'This document outlines key risks, their descriptions, potential consequences, classifications, and control strategies within an organization. It also details responsible persons and business units involved in managing these risks.', 'title': 'Risk Management Document'}]\n",
      "* [SIM=0.514152] [{'path': 'CompliSpaceAssurance/Cyber Security/Cyber Security/Risk Register/Cyber Security Possible Risk Controls and Treatments (1).docx', 'price': 72.99, 'summary': 'This is the extracted content from a Word document (.docx) file. It consists of various internal files such as XML and PNG files that make up the document structure and metadata.', 'title': 'Unzipped Contents of a Word Document'}]\n",
      "* [SIM=0.525162] [{'path': 'CompliSpaceAssurance/Cyber Security/Cyber Security/Cyber Security Audit Checklist.json', 'price': 85.99, 'summary': 'A comprehensive checklist to audit cyber security practices, including governance, risk identification, protection, incident response, monitoring, physical security, data protection, third-party management, and user access control.', 'title': 'Cyber Security Audit Checklist'}]\n",
      "* [SIM=0.540622] [{'path': 'CompliSpaceAssurance/Cyber Security/Cyber Security/Cyber Security Incident Register.json', 'price': 87.45, 'summary': 'A comprehensive template for documenting, managing, and reviewing cyber security incidents, including stages for incident reporting, remediation action plans, and post-incident reviews.', 'title': 'Cyber Security Incident Register Template'}]\n"
     ]
    }
   ],
   "source": [
    "# Perform vector search\n",
    "results = vector_store.similarity_search_with_score(prompt, k=5)\n",
    "\n",
    "for result, score in results:\n",
    "    print(f\"* [SIM={score:3f}] [{result.metadata}]\")"
   ]
  },
  {
   "cell_type": "markdown",
   "metadata": {},
   "source": [
    "### Prompt a model with the files as context"
   ]
  },
  {
   "cell_type": "code",
   "execution_count": 13,
   "metadata": {},
   "outputs": [],
   "source": [
    "# Define the retriever function\n",
    "similarity_threshold = 0.5\n",
    "retriever = vector_store.as_retriever(search_type=\"similarity_score_threshold\",\n",
    "                                      search_kwargs={\"k\": 5, \"score_threshold\": similarity_threshold})"
   ]
  },
  {
   "cell_type": "code",
   "execution_count": 14,
   "metadata": {},
   "outputs": [],
   "source": [
    "qa = RetrievalQA.from_chain_type(\n",
    "    llm=model,\n",
    "    chain_type=\"stuff\", \n",
    "    retriever=retriever, \n",
    "    return_source_documents=True \n",
    ")"
   ]
  },
  {
   "cell_type": "code",
   "execution_count": 15,
   "metadata": {},
   "outputs": [
    {
     "name": "stdout",
     "output_type": "stream",
     "text": [
      "Answer: A cyber security risk generally refers to the potential for unauthorized access, exposure, manipulation, or destruction of information and systems within an organization. Here are some key components that constitute a cyber security risk:\n",
      "\n",
      "1. **Unauthorized Access:** Gaining access to systems, networks, or data without permission, which can lead to data breaches and theft of sensitive information.\n",
      "\n",
      "2. **Data Exposure:** Sensitive or personal information is accessed, disclosed, or exposed to unauthorized people, leading to data breaches and potentially compromising intellectual property or personal information.\n",
      "\n",
      "3. **Data Manipulation:** Unauthorized changes or corruption of data that can affect the integrity and reliability of the information systems.\n",
      "\n",
      "4. **Data Destruction:** Intentional deletion or destruction of data, which can disrupt business operations and lead to significant financial and reputational damage.\n",
      "\n",
      "5. **Malicious Software (Malware):** Installation of malicious software designed to disrupt, damage, or gain unauthorized access to computer systems. This can include ransomware, viruses, worms, and spyware.\n",
      "\n",
      "6. **Phishing:** Fraudulent attempts via email or text messages to trick individuals into providing personal information or downloading malicious software.\n",
      "\n",
      "7. **Hacking:** Unauthorized access to systems or networks to exploit data or manipulate normal behavior.\n",
      "\n",
      "8. **Identity Theft:** Gaining access to personal information to impersonate someone, which can lead to unauthorized transactions and other fraudulent activities.\n",
      "\n",
      "9. **Business Email Compromise:** Using email to deceive an organization into performing unauthorized actions, such as transferring funds or disclosing confidential information.\n",
      "\n",
      "10. **Account Compromise:** Unauthorized access to email or other operational accounts, which can result in data theft and further exploitation of the compromised accounts.\n",
      "\n",
      "11. **Insider Threats:** Malicious insiders using legitimate access to steal data or sabotage systems.\n",
      "\n",
      "12. **Denial-of-Service (DoS) Attacks:** Overwhelming systems with traffic to make them unavailable to users, disrupting normal business operations.\n",
      "\n",
      "These risks can lead to various consequences such as financial loss, reputational damage, legal liabilities, and operational disruptions. Identifying, assessing, and mitigating these risks are critical components of a robust cyber security strategy.\n",
      "\n",
      "Source documents: ['CompliSpaceAssurance/Cyber Security/Cyber Security/Risk Register/3 Cyber Security Risk Register Order of Fields.pdf', 'CompliSpaceAssurance/Cyber Security/Cyber Security/Cyber Security Audit Checklist.json', 'CompliSpaceAssurance/Cyber Security/Cyber Security/Risk Register/Cyber Security Possible Risk Controls and Treatments (1).docx', 'CompliSpaceAssurance/Cyber Security/Cyber Security/Cyber Security Incident Register.json', 'CompliSpaceAssurance/Cyber Security/Cyber Security/Risk Register/4 Cyber Security Risk Register Upload Spreadsheet.csv']\n"
     ]
    }
   ],
   "source": [
    "# Invoke the model for RAG\n",
    "answer = qa.invoke({\"query\": prompt})\n",
    "string_answer = answer['result']\n",
    "\n",
    "chunks= []\n",
    "for i in range(len(answer['source_documents'])):\n",
    "    chunks.append(answer['source_documents'][i].metadata['path'])\n",
    "chunks_unique = list(set(chunks))\n",
    "\n",
    "print(f\"Answer: {string_answer}\\n\")\n",
    "print(f\"Source documents: {chunks_unique}\")"
   ]
  }
 ],
 "metadata": {
  "kernelspec": {
   "display_name": ".venv",
   "language": "python",
   "name": "python3"
  },
  "language_info": {
   "codemirror_mode": {
    "name": "ipython",
    "version": 3
   },
   "file_extension": ".py",
   "mimetype": "text/x-python",
   "name": "python",
   "nbconvert_exporter": "python",
   "pygments_lexer": "ipython3",
   "version": "3.11.9"
  }
 },
 "nbformat": 4,
 "nbformat_minor": 2
}
